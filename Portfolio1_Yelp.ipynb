{
 "cells": [
  {
   "cell_type": "markdown",
   "id": "379d9b3f",
   "metadata": {},
   "source": [
    "# Analysis of Yelp Data\n",
    "\n",
    "\n",
    "The Yelp dataset is a collection of user-generated reviews and associated data for businesses in various cities. The data includes information such as the business name, category, location, and rating, as well as the user ID and review text for each review. This data can be used to analyze patterns and trends in consumer behavior, business performance, and geographic locations. Additionally, the dataset provides an opportunity to explore the relationships between different variables, such as ratings, reviews, and business categories. This data can be leveraged to gain insights and make informed decisions in a variety of industries, including marketing, business management, and public policy.\n",
    "\n",
    "Description of the variables of the data used here.\n",
    "\n",
    "* __business_id__ - A unique identifier for each business in the dataset\n",
    "* __business_categories__ - A list of categories associated with the business\n",
    "* __business_city__ - The city where the business is located.\n",
    "* __user_id__ - A unique identifier for each user who has written a review.\n",
    "* __text__ - The text of the review.\n",
    "* __stars__ - The user's rating towards the business\n",
    "* __useful__ - The number of times the review was voted as useful.\n",
    "* __date__ - The date the review was posted."
   ]
  },
  {
   "cell_type": "markdown",
   "id": "5edf3fef",
   "metadata": {},
   "source": [
    " # Check and remove missing data\n"
   ]
  },
  {
   "cell_type": "code",
   "execution_count": 1,
   "id": "5303e35a",
   "metadata": {},
   "outputs": [],
   "source": [
    "import pandas as pd\n",
    "import numpy as np\n",
    "import matplotlib.pyplot as plt\n",
    "import time \n",
    "%matplotlib inline\n",
    "\n",
    "ds = 'Yelp_Portfolio1_Input.csv'"
   ]
  },
  {
   "cell_type": "code",
   "execution_count": 2,
   "id": "587ecf1b",
   "metadata": {},
   "outputs": [
    {
     "name": "stdout",
     "output_type": "stream",
     "text": [
      "column name: business_categories: 777 missing values\n",
      "column name: text: 6 missing values\n",
      "Length of data before removing missing values: 229907\n"
     ]
    }
   ],
   "source": [
    "dataSet = pd.read_csv(ds)\n",
    "missingValsC = dataSet.isnull().sum()\n",
    "columnsWithMissVal = []\n",
    "for column in missingValsC.index:\n",
    "    if missingValsC[column] > 0:\n",
    "        columnsWithMissVal.append(column)   \n",
    "for column in columnsWithMissVal:\n",
    "    print(f\"column name: {column}: {missingValsC[column]} missing values\")\n",
    "print(f\"Length of data before removing missing values: {len(dataSet)}\")\n"
   ]
  },
  {
   "cell_type": "markdown",
   "id": "da3df088",
   "metadata": {},
   "source": [
    "### Remove any row that contains at least one missing value"
   ]
  },
  {
   "cell_type": "code",
   "execution_count": 3,
   "id": "ebf0e581",
   "metadata": {
    "scrolled": true
   },
   "outputs": [],
   "source": [
    "# cleanData = dataSet.dropna(inplace=False)\n",
    "# print(\"Length of data after removing missing values:\", len(cleanData))\n",
    "# cleanData = cleanData[(cleanData['business_id'] != '#NAME?') & (cleanData['business_id'] != '#VALUE!')]\n",
    "# cleanData = cleanData[(cleanData['user_id'] != '#NAME?') & (cleanData['user_id'] != '#VALUE!')]\n",
    "# print(\"Length of data after removing invalid values:\", len(cleanData))\n",
    "# cleanData\n",
    "##############\n",
    "# cleanData = dataSet.dropna(inplace=False)\n",
    "# print(\"Length of data after removing missing values:\", len(cleanData))\n",
    "# invalidValues = ['#NAME?', '#VALUE!']\n",
    "# cleanData = cleanData[~cleanData['business_id'].isin(invalidValues)]\n",
    "# cleanData = cleanData[~cleanData['user_id'].isin(invalidValues)]\n",
    "# print(\"Length of data after removing invalid values:\", len(cleanData))\n",
    "# cleanData\n",
    "\n"
   ]
  },
  {
   "cell_type": "code",
   "execution_count": 4,
   "id": "e80610b0",
   "metadata": {
    "scrolled": true
   },
   "outputs": [
    {
     "name": "stdout",
     "output_type": "stream",
     "text": [
      "Length of data after removing missing values: 229124\n",
      "Length of data after removing invalid values: 222759\n"
     ]
    },
    {
     "data": {
      "text/html": [
       "<div>\n",
       "<style scoped>\n",
       "    .dataframe tbody tr th:only-of-type {\n",
       "        vertical-align: middle;\n",
       "    }\n",
       "\n",
       "    .dataframe tbody tr th {\n",
       "        vertical-align: top;\n",
       "    }\n",
       "\n",
       "    .dataframe thead th {\n",
       "        text-align: right;\n",
       "    }\n",
       "</style>\n",
       "<table border=\"1\" class=\"dataframe\">\n",
       "  <thead>\n",
       "    <tr style=\"text-align: right;\">\n",
       "      <th></th>\n",
       "      <th>business_categories</th>\n",
       "      <th>business_city</th>\n",
       "      <th>business_id</th>\n",
       "      <th>date</th>\n",
       "      <th>stars</th>\n",
       "      <th>text</th>\n",
       "      <th>useful</th>\n",
       "      <th>user_id</th>\n",
       "    </tr>\n",
       "  </thead>\n",
       "  <tbody>\n",
       "    <tr>\n",
       "      <th>0</th>\n",
       "      <td>Breakfast &amp; Brunch; Restaurants</td>\n",
       "      <td>Phoenix</td>\n",
       "      <td>9yKzy9PApeiPPOUJEtnvkg</td>\n",
       "      <td>26/1/2011</td>\n",
       "      <td>5</td>\n",
       "      <td>My wife took me here on my birthday for breakf...</td>\n",
       "      <td>5</td>\n",
       "      <td>rLtl8ZkDX5vH5nAx9C3q5Q</td>\n",
       "    </tr>\n",
       "    <tr>\n",
       "      <th>1</th>\n",
       "      <td>Italian; Pizza; Restaurants</td>\n",
       "      <td>Phoenix</td>\n",
       "      <td>ZRJwVLyzEJq1VAihDhYiow</td>\n",
       "      <td>27/7/2011</td>\n",
       "      <td>5</td>\n",
       "      <td>I have no idea why some people give bad review...</td>\n",
       "      <td>0</td>\n",
       "      <td>0a2KyEL0d3Yb1V6aivbIuQ</td>\n",
       "    </tr>\n",
       "    <tr>\n",
       "      <th>2</th>\n",
       "      <td>Middle Eastern; Restaurants</td>\n",
       "      <td>Tempe</td>\n",
       "      <td>6oRAC4uyJCsJl1X0WZpVSA</td>\n",
       "      <td>14/6/2012</td>\n",
       "      <td>4</td>\n",
       "      <td>love the gyro plate. Rice is so good and I als...</td>\n",
       "      <td>1</td>\n",
       "      <td>0hT2KtfLiobPvh6cDC8JQg</td>\n",
       "    </tr>\n",
       "    <tr>\n",
       "      <th>3</th>\n",
       "      <td>Active Life; Dog Parks; Parks</td>\n",
       "      <td>Scottsdale</td>\n",
       "      <td>_1QQZuf4zZOyFCvXc0o6Vg</td>\n",
       "      <td>27/5/2010</td>\n",
       "      <td>5</td>\n",
       "      <td>Rosie, Dakota, and I LOVE Chaparral Dog Park!!...</td>\n",
       "      <td>2</td>\n",
       "      <td>uZetl9T0NcROGOyFfughhg</td>\n",
       "    </tr>\n",
       "    <tr>\n",
       "      <th>4</th>\n",
       "      <td>Tires; Automotive</td>\n",
       "      <td>Mesa</td>\n",
       "      <td>6ozycU1RpktNG2-1BroVtw</td>\n",
       "      <td>5/1/2012</td>\n",
       "      <td>5</td>\n",
       "      <td>General Manager Scott Petello is a good egg!!!...</td>\n",
       "      <td>0</td>\n",
       "      <td>vYmM4KTsC8ZfQBg-j5MWkw</td>\n",
       "    </tr>\n",
       "    <tr>\n",
       "      <th>...</th>\n",
       "      <td>...</td>\n",
       "      <td>...</td>\n",
       "      <td>...</td>\n",
       "      <td>...</td>\n",
       "      <td>...</td>\n",
       "      <td>...</td>\n",
       "      <td>...</td>\n",
       "      <td>...</td>\n",
       "    </tr>\n",
       "    <tr>\n",
       "      <th>229901</th>\n",
       "      <td>Event Planning &amp; Services; Venues &amp; Event Spaces</td>\n",
       "      <td>Phoenix</td>\n",
       "      <td>C1tH3sEQra33EOTk56Eu1Q</td>\n",
       "      <td>11/9/2008</td>\n",
       "      <td>3</td>\n",
       "      <td>I'm sorry to this but I must admit I was prett...</td>\n",
       "      <td>2</td>\n",
       "      <td>q9XgOylNsSbqZqF_SO3-OQ</td>\n",
       "    </tr>\n",
       "    <tr>\n",
       "      <th>229902</th>\n",
       "      <td>Gastropubs; Restaurants</td>\n",
       "      <td>Tempe</td>\n",
       "      <td>vnffHkFJbmd-J3OaBbK2Eg</td>\n",
       "      <td>14/4/2011</td>\n",
       "      <td>2</td>\n",
       "      <td>I really wanted to like this place because it'...</td>\n",
       "      <td>0</td>\n",
       "      <td>6e7pZofhDuIlD_rX2oYirQ</td>\n",
       "    </tr>\n",
       "    <tr>\n",
       "      <th>229903</th>\n",
       "      <td>Hotels &amp; Travel; Event Planning &amp; Services; Ho...</td>\n",
       "      <td>Peoria</td>\n",
       "      <td>l5oUrgQ190l8CcN8uzd_pA</td>\n",
       "      <td>23/1/2011</td>\n",
       "      <td>1</td>\n",
       "      <td>My husband I stayed here for two nights.  Of c...</td>\n",
       "      <td>2</td>\n",
       "      <td>dDNfSFT0VApxPmURclX6_g</td>\n",
       "    </tr>\n",
       "    <tr>\n",
       "      <th>229905</th>\n",
       "      <td>Wine Bars; Bars; Pizza; Nightlife; Restaurants</td>\n",
       "      <td>Tempe</td>\n",
       "      <td>YQvg0JCGRFUkb6reMMf3Iw</td>\n",
       "      <td>18/1/2011</td>\n",
       "      <td>3</td>\n",
       "      <td>I have to take a star off for the spotty servi...</td>\n",
       "      <td>2</td>\n",
       "      <td>jopndPrv-H5KW2CfScnw9A</td>\n",
       "    </tr>\n",
       "    <tr>\n",
       "      <th>229906</th>\n",
       "      <td>Churches; Religious Organizations</td>\n",
       "      <td>Phoenix</td>\n",
       "      <td>gKxOZvQTTd5hpFa3r5igGQ</td>\n",
       "      <td>14/8/2010</td>\n",
       "      <td>5</td>\n",
       "      <td>So cool, yo.</td>\n",
       "      <td>0</td>\n",
       "      <td>mbRUG6h0Mgb2XIJvscIoMg</td>\n",
       "    </tr>\n",
       "  </tbody>\n",
       "</table>\n",
       "<p>222759 rows × 8 columns</p>\n",
       "</div>"
      ],
      "text/plain": [
       "                                      business_categories business_city  \\\n",
       "0                         Breakfast & Brunch; Restaurants       Phoenix   \n",
       "1                             Italian; Pizza; Restaurants       Phoenix   \n",
       "2                             Middle Eastern; Restaurants         Tempe   \n",
       "3                           Active Life; Dog Parks; Parks    Scottsdale   \n",
       "4                                       Tires; Automotive          Mesa   \n",
       "...                                                   ...           ...   \n",
       "229901   Event Planning & Services; Venues & Event Spaces       Phoenix   \n",
       "229902                            Gastropubs; Restaurants         Tempe   \n",
       "229903  Hotels & Travel; Event Planning & Services; Ho...        Peoria   \n",
       "229905     Wine Bars; Bars; Pizza; Nightlife; Restaurants         Tempe   \n",
       "229906                  Churches; Religious Organizations       Phoenix   \n",
       "\n",
       "                   business_id       date  stars  \\\n",
       "0       9yKzy9PApeiPPOUJEtnvkg  26/1/2011      5   \n",
       "1       ZRJwVLyzEJq1VAihDhYiow  27/7/2011      5   \n",
       "2       6oRAC4uyJCsJl1X0WZpVSA  14/6/2012      4   \n",
       "3       _1QQZuf4zZOyFCvXc0o6Vg  27/5/2010      5   \n",
       "4       6ozycU1RpktNG2-1BroVtw   5/1/2012      5   \n",
       "...                        ...        ...    ...   \n",
       "229901  C1tH3sEQra33EOTk56Eu1Q  11/9/2008      3   \n",
       "229902  vnffHkFJbmd-J3OaBbK2Eg  14/4/2011      2   \n",
       "229903  l5oUrgQ190l8CcN8uzd_pA  23/1/2011      1   \n",
       "229905  YQvg0JCGRFUkb6reMMf3Iw  18/1/2011      3   \n",
       "229906  gKxOZvQTTd5hpFa3r5igGQ  14/8/2010      5   \n",
       "\n",
       "                                                     text  useful  \\\n",
       "0       My wife took me here on my birthday for breakf...       5   \n",
       "1       I have no idea why some people give bad review...       0   \n",
       "2       love the gyro plate. Rice is so good and I als...       1   \n",
       "3       Rosie, Dakota, and I LOVE Chaparral Dog Park!!...       2   \n",
       "4       General Manager Scott Petello is a good egg!!!...       0   \n",
       "...                                                   ...     ...   \n",
       "229901  I'm sorry to this but I must admit I was prett...       2   \n",
       "229902  I really wanted to like this place because it'...       0   \n",
       "229903  My husband I stayed here for two nights.  Of c...       2   \n",
       "229905  I have to take a star off for the spotty servi...       2   \n",
       "229906                                       So cool, yo.       0   \n",
       "\n",
       "                       user_id  \n",
       "0       rLtl8ZkDX5vH5nAx9C3q5Q  \n",
       "1       0a2KyEL0d3Yb1V6aivbIuQ  \n",
       "2       0hT2KtfLiobPvh6cDC8JQg  \n",
       "3       uZetl9T0NcROGOyFfughhg  \n",
       "4       vYmM4KTsC8ZfQBg-j5MWkw  \n",
       "...                        ...  \n",
       "229901  q9XgOylNsSbqZqF_SO3-OQ  \n",
       "229902  6e7pZofhDuIlD_rX2oYirQ  \n",
       "229903  dDNfSFT0VApxPmURclX6_g  \n",
       "229905  jopndPrv-H5KW2CfScnw9A  \n",
       "229906  mbRUG6h0Mgb2XIJvscIoMg  \n",
       "\n",
       "[222759 rows x 8 columns]"
      ]
     },
     "execution_count": 4,
     "metadata": {},
     "output_type": "execute_result"
    }
   ],
   "source": [
    "cleanData = dataSet.dropna(inplace=False)\n",
    "print(\"Length of data after removing missing values:\", len(cleanData))\n",
    "cleanData = cleanData.drop(cleanData.index[(cleanData['business_id'] == '#NAME?') |(cleanData['business_id'] == '#VALUE!') | (cleanData['user_id'] == '#VALUE!') | (cleanData['user_id'] == '#NAME?')])\n",
    "print(\"Length of data after removing invalid values:\", len(cleanData))\n",
    "cleanData\n"
   ]
  },
  {
   "cell_type": "markdown",
   "id": "334b9f9e",
   "metadata": {},
   "source": [
    "# Random Subset Selection of Yelp Businesses by City"
   ]
  },
  {
   "cell_type": "markdown",
   "id": "b386ff6c",
   "metadata": {},
   "source": [
    "Selecting a random subset of cities from the Yelp business dataset and extracting all the rows corresponding to businesses located in those cities can be useful for various purposes. For example, it can be used to \n",
    "perform exploratory data analysis on a smaller subset of the dataset, which can be more manageable and faster to process than the entire dataset. Suppose you want to select a random subset of 10 cities from the dataset and extract all the rows that correspond to businesses located in those cities. At last, print the length of the resulting sample data. Write Python code that accomplishes this task.\n",
    "\n",
    "Note: Use the $random.sample()$ function to select 10 random cities from the list of unique cities. Set the random seed to 42 before selecting the cities!!!"
   ]
  },
  {
   "cell_type": "code",
   "execution_count": 5,
   "id": "0abef7dc",
   "metadata": {
    "scrolled": true
   },
   "outputs": [
    {
     "name": "stdout",
     "output_type": "stream",
     "text": [
      "Length of sample data: 38654\n"
     ]
    },
    {
     "data": {
      "text/html": [
       "<div>\n",
       "<style scoped>\n",
       "    .dataframe tbody tr th:only-of-type {\n",
       "        vertical-align: middle;\n",
       "    }\n",
       "\n",
       "    .dataframe tbody tr th {\n",
       "        vertical-align: top;\n",
       "    }\n",
       "\n",
       "    .dataframe thead th {\n",
       "        text-align: right;\n",
       "    }\n",
       "</style>\n",
       "<table border=\"1\" class=\"dataframe\">\n",
       "  <thead>\n",
       "    <tr style=\"text-align: right;\">\n",
       "      <th></th>\n",
       "      <th>business_categories</th>\n",
       "      <th>business_city</th>\n",
       "      <th>business_id</th>\n",
       "      <th>date</th>\n",
       "      <th>stars</th>\n",
       "      <th>text</th>\n",
       "      <th>useful</th>\n",
       "      <th>user_id</th>\n",
       "    </tr>\n",
       "  </thead>\n",
       "  <tbody>\n",
       "    <tr>\n",
       "      <th>2</th>\n",
       "      <td>Middle Eastern; Restaurants</td>\n",
       "      <td>Tempe</td>\n",
       "      <td>6oRAC4uyJCsJl1X0WZpVSA</td>\n",
       "      <td>14/6/2012</td>\n",
       "      <td>4</td>\n",
       "      <td>love the gyro plate. Rice is so good and I als...</td>\n",
       "      <td>1</td>\n",
       "      <td>0hT2KtfLiobPvh6cDC8JQg</td>\n",
       "    </tr>\n",
       "    <tr>\n",
       "      <th>13</th>\n",
       "      <td>Tattoo; Beauty &amp; Spas</td>\n",
       "      <td>Tempe</td>\n",
       "      <td>WGNIYMeXPyoWav1APUq7jA</td>\n",
       "      <td>23/12/2011</td>\n",
       "      <td>4</td>\n",
       "      <td>Good tattoo shop. Clean space, multiple artist...</td>\n",
       "      <td>2</td>\n",
       "      <td>Xm8HXE1JHqscXe5BKf0GFQ</td>\n",
       "    </tr>\n",
       "    <tr>\n",
       "      <th>32</th>\n",
       "      <td>Tires; Automotive</td>\n",
       "      <td>Glendale</td>\n",
       "      <td>rxQ2PIjhAx6dgAqUalf99Q</td>\n",
       "      <td>9/9/2012</td>\n",
       "      <td>5</td>\n",
       "      <td>Never having dealt with a Discount Tire in Pho...</td>\n",
       "      <td>0</td>\n",
       "      <td>HLbhD2OyiMCUDRR4c1iXaw</td>\n",
       "    </tr>\n",
       "    <tr>\n",
       "      <th>50</th>\n",
       "      <td>Sushi Bars; Restaurants</td>\n",
       "      <td>Tempe</td>\n",
       "      <td>EC9WB-iVjd28B6R6KIZ8TA</td>\n",
       "      <td>4/8/2010</td>\n",
       "      <td>4</td>\n",
       "      <td>Cliff notes\\n- Cheap: $1-2/plate\\n- Fast: It's...</td>\n",
       "      <td>0</td>\n",
       "      <td>jdoGEEy5s-5L1O_lNzEi2g</td>\n",
       "    </tr>\n",
       "    <tr>\n",
       "      <th>53</th>\n",
       "      <td>Arts &amp; Entertainment; Cinema</td>\n",
       "      <td>Tempe</td>\n",
       "      <td>LDJhwZN14AZOJyHjg2lkRw</td>\n",
       "      <td>13/12/2011</td>\n",
       "      <td>4</td>\n",
       "      <td>We got passes for the preview of Mission Impos...</td>\n",
       "      <td>0</td>\n",
       "      <td>Mb0psF4WQF7gZSuZafVr-g</td>\n",
       "    </tr>\n",
       "    <tr>\n",
       "      <th>...</th>\n",
       "      <td>...</td>\n",
       "      <td>...</td>\n",
       "      <td>...</td>\n",
       "      <td>...</td>\n",
       "      <td>...</td>\n",
       "      <td>...</td>\n",
       "      <td>...</td>\n",
       "      <td>...</td>\n",
       "    </tr>\n",
       "    <tr>\n",
       "      <th>229884</th>\n",
       "      <td>Burgers; Restaurants</td>\n",
       "      <td>Glendale</td>\n",
       "      <td>sbnCG3-CouwIu0jsApfCsQ</td>\n",
       "      <td>26/2/2010</td>\n",
       "      <td>1</td>\n",
       "      <td>We ate at the Arrowhead Mall Johnny Rockets to...</td>\n",
       "      <td>0</td>\n",
       "      <td>mlY2rj2PBhK6-nlWjDMQIg</td>\n",
       "    </tr>\n",
       "    <tr>\n",
       "      <th>229889</th>\n",
       "      <td>Delis; Sandwiches; Restaurants</td>\n",
       "      <td>Tempe</td>\n",
       "      <td>cE99Cjrj2YXSGs4MECb86w</td>\n",
       "      <td>19/10/2007</td>\n",
       "      <td>3</td>\n",
       "      <td>You want a monster sandwich that will challeng...</td>\n",
       "      <td>6</td>\n",
       "      <td>tlSSQwfHYJany7wPoTH46A</td>\n",
       "    </tr>\n",
       "    <tr>\n",
       "      <th>229893</th>\n",
       "      <td>American (Traditional); Restaurants</td>\n",
       "      <td>Tempe</td>\n",
       "      <td>c8XlQvVNwKhH9BOHEObtNQ</td>\n",
       "      <td>16/12/2011</td>\n",
       "      <td>4</td>\n",
       "      <td>Went for lunch at Claim Jumper, let me tell yo...</td>\n",
       "      <td>0</td>\n",
       "      <td>8dbRf1UsWp2ktXHZ6Zv06w</td>\n",
       "    </tr>\n",
       "    <tr>\n",
       "      <th>229902</th>\n",
       "      <td>Gastropubs; Restaurants</td>\n",
       "      <td>Tempe</td>\n",
       "      <td>vnffHkFJbmd-J3OaBbK2Eg</td>\n",
       "      <td>14/4/2011</td>\n",
       "      <td>2</td>\n",
       "      <td>I really wanted to like this place because it'...</td>\n",
       "      <td>0</td>\n",
       "      <td>6e7pZofhDuIlD_rX2oYirQ</td>\n",
       "    </tr>\n",
       "    <tr>\n",
       "      <th>229905</th>\n",
       "      <td>Wine Bars; Bars; Pizza; Nightlife; Restaurants</td>\n",
       "      <td>Tempe</td>\n",
       "      <td>YQvg0JCGRFUkb6reMMf3Iw</td>\n",
       "      <td>18/1/2011</td>\n",
       "      <td>3</td>\n",
       "      <td>I have to take a star off for the spotty servi...</td>\n",
       "      <td>2</td>\n",
       "      <td>jopndPrv-H5KW2CfScnw9A</td>\n",
       "    </tr>\n",
       "  </tbody>\n",
       "</table>\n",
       "<p>38654 rows × 8 columns</p>\n",
       "</div>"
      ],
      "text/plain": [
       "                                   business_categories business_city  \\\n",
       "2                          Middle Eastern; Restaurants         Tempe   \n",
       "13                               Tattoo; Beauty & Spas         Tempe   \n",
       "32                                   Tires; Automotive      Glendale   \n",
       "50                             Sushi Bars; Restaurants         Tempe   \n",
       "53                        Arts & Entertainment; Cinema         Tempe   \n",
       "...                                                ...           ...   \n",
       "229884                            Burgers; Restaurants      Glendale   \n",
       "229889                  Delis; Sandwiches; Restaurants         Tempe   \n",
       "229893             American (Traditional); Restaurants         Tempe   \n",
       "229902                         Gastropubs; Restaurants         Tempe   \n",
       "229905  Wine Bars; Bars; Pizza; Nightlife; Restaurants         Tempe   \n",
       "\n",
       "                   business_id        date  stars  \\\n",
       "2       6oRAC4uyJCsJl1X0WZpVSA   14/6/2012      4   \n",
       "13      WGNIYMeXPyoWav1APUq7jA  23/12/2011      4   \n",
       "32      rxQ2PIjhAx6dgAqUalf99Q    9/9/2012      5   \n",
       "50      EC9WB-iVjd28B6R6KIZ8TA    4/8/2010      4   \n",
       "53      LDJhwZN14AZOJyHjg2lkRw  13/12/2011      4   \n",
       "...                        ...         ...    ...   \n",
       "229884  sbnCG3-CouwIu0jsApfCsQ   26/2/2010      1   \n",
       "229889  cE99Cjrj2YXSGs4MECb86w  19/10/2007      3   \n",
       "229893  c8XlQvVNwKhH9BOHEObtNQ  16/12/2011      4   \n",
       "229902  vnffHkFJbmd-J3OaBbK2Eg   14/4/2011      2   \n",
       "229905  YQvg0JCGRFUkb6reMMf3Iw   18/1/2011      3   \n",
       "\n",
       "                                                     text  useful  \\\n",
       "2       love the gyro plate. Rice is so good and I als...       1   \n",
       "13      Good tattoo shop. Clean space, multiple artist...       2   \n",
       "32      Never having dealt with a Discount Tire in Pho...       0   \n",
       "50      Cliff notes\\n- Cheap: $1-2/plate\\n- Fast: It's...       0   \n",
       "53      We got passes for the preview of Mission Impos...       0   \n",
       "...                                                   ...     ...   \n",
       "229884  We ate at the Arrowhead Mall Johnny Rockets to...       0   \n",
       "229889  You want a monster sandwich that will challeng...       6   \n",
       "229893  Went for lunch at Claim Jumper, let me tell yo...       0   \n",
       "229902  I really wanted to like this place because it'...       0   \n",
       "229905  I have to take a star off for the spotty servi...       2   \n",
       "\n",
       "                       user_id  \n",
       "2       0hT2KtfLiobPvh6cDC8JQg  \n",
       "13      Xm8HXE1JHqscXe5BKf0GFQ  \n",
       "32      HLbhD2OyiMCUDRR4c1iXaw  \n",
       "50      jdoGEEy5s-5L1O_lNzEi2g  \n",
       "53      Mb0psF4WQF7gZSuZafVr-g  \n",
       "...                        ...  \n",
       "229884  mlY2rj2PBhK6-nlWjDMQIg  \n",
       "229889  tlSSQwfHYJany7wPoTH46A  \n",
       "229893  8dbRf1UsWp2ktXHZ6Zv06w  \n",
       "229902  6e7pZofhDuIlD_rX2oYirQ  \n",
       "229905  jopndPrv-H5KW2CfScnw9A  \n",
       "\n",
       "[38654 rows x 8 columns]"
      ]
     },
     "execution_count": 5,
     "metadata": {},
     "output_type": "execute_result"
    }
   ],
   "source": [
    "import random\n",
    "random.seed(42)\n",
    "cities = random.sample(list(cleanData['business_city'].unique()), 10)\n",
    "sampleData = cleanData[cleanData[\"business_city\"].isin(cities)]\n",
    "print(f\"Length of sample data: {len(sampleData)}\")\n",
    "sampleData"
   ]
  },
  {
   "cell_type": "markdown",
   "id": "0ff5298a",
   "metadata": {},
   "source": [
    "#  Descriptive statistics on the data output from Q2\n",
    "###  Compute summary statistics for the `stars` column of the sample data\n",
    "Note: the resulting output includes the count, mean, standard deviation, minimum, maximum values of the column."
   ]
  },
  {
   "cell_type": "code",
   "execution_count": 6,
   "id": "02571c2c",
   "metadata": {
    "scrolled": true
   },
   "outputs": [
    {
     "name": "stdout",
     "output_type": "stream",
     "text": [
      "summary statistics for the stars column of the sample data\n"
     ]
    },
    {
     "data": {
      "text/html": [
       "<div>\n",
       "<style scoped>\n",
       "    .dataframe tbody tr th:only-of-type {\n",
       "        vertical-align: middle;\n",
       "    }\n",
       "\n",
       "    .dataframe tbody tr th {\n",
       "        vertical-align: top;\n",
       "    }\n",
       "\n",
       "    .dataframe thead th {\n",
       "        text-align: right;\n",
       "    }\n",
       "</style>\n",
       "<table border=\"1\" class=\"dataframe\">\n",
       "  <thead>\n",
       "    <tr style=\"text-align: right;\">\n",
       "      <th></th>\n",
       "      <th>stars</th>\n",
       "    </tr>\n",
       "  </thead>\n",
       "  <tbody>\n",
       "    <tr>\n",
       "      <th>count</th>\n",
       "      <td>38654.000000</td>\n",
       "    </tr>\n",
       "    <tr>\n",
       "      <th>mean</th>\n",
       "      <td>3.707922</td>\n",
       "    </tr>\n",
       "    <tr>\n",
       "      <th>std</th>\n",
       "      <td>1.240872</td>\n",
       "    </tr>\n",
       "    <tr>\n",
       "      <th>min</th>\n",
       "      <td>1.000000</td>\n",
       "    </tr>\n",
       "    <tr>\n",
       "      <th>25%</th>\n",
       "      <td>3.000000</td>\n",
       "    </tr>\n",
       "    <tr>\n",
       "      <th>50%</th>\n",
       "      <td>4.000000</td>\n",
       "    </tr>\n",
       "    <tr>\n",
       "      <th>75%</th>\n",
       "      <td>5.000000</td>\n",
       "    </tr>\n",
       "    <tr>\n",
       "      <th>max</th>\n",
       "      <td>5.000000</td>\n",
       "    </tr>\n",
       "  </tbody>\n",
       "</table>\n",
       "</div>"
      ],
      "text/plain": [
       "              stars\n",
       "count  38654.000000\n",
       "mean       3.707922\n",
       "std        1.240872\n",
       "min        1.000000\n",
       "25%        3.000000\n",
       "50%        4.000000\n",
       "75%        5.000000\n",
       "max        5.000000"
      ]
     },
     "execution_count": 6,
     "metadata": {},
     "output_type": "execute_result"
    }
   ],
   "source": [
    "print('summary statistics for the stars column of the sample data')\n",
    "s = sampleData[['stars']]\n",
    "s.describe()"
   ]
  },
  {
   "cell_type": "markdown",
   "id": "9ac40c1f",
   "metadata": {},
   "source": [
    "### Q3.2 For each city in the dataframe, how many unique businesses are there?\n",
    "\n",
    "Note: the resulting dataframe has two columns: `business_city` and `count`. Compute summary statistics (similar as Q 3.1) for the `count` column."
   ]
  },
  {
   "cell_type": "code",
   "execution_count": 7,
   "id": "42af9783",
   "metadata": {},
   "outputs": [],
   "source": [
    "uBusinesses = sampleData.groupby('business_city')['business_id'].nunique().reset_index()\n",
    "uBusinesses.columns = ['business_city', 'count']\n",
    "res = uBusinesses[['business_city', 'count']]\n",
    "countStats = uBusinesses[['count']]\n",
    "\n",
    "\n"
   ]
  },
  {
   "cell_type": "code",
   "execution_count": 8,
   "id": "33170112",
   "metadata": {
    "scrolled": true
   },
   "outputs": [
    {
     "data": {
      "text/html": [
       "<div>\n",
       "<style scoped>\n",
       "    .dataframe tbody tr th:only-of-type {\n",
       "        vertical-align: middle;\n",
       "    }\n",
       "\n",
       "    .dataframe tbody tr th {\n",
       "        vertical-align: top;\n",
       "    }\n",
       "\n",
       "    .dataframe thead th {\n",
       "        text-align: right;\n",
       "    }\n",
       "</style>\n",
       "<table border=\"1\" class=\"dataframe\">\n",
       "  <thead>\n",
       "    <tr style=\"text-align: right;\">\n",
       "      <th></th>\n",
       "      <th>business_city</th>\n",
       "      <th>count</th>\n",
       "    </tr>\n",
       "  </thead>\n",
       "  <tbody>\n",
       "    <tr>\n",
       "      <th>0</th>\n",
       "      <td>Ahwatukee</td>\n",
       "      <td>3</td>\n",
       "    </tr>\n",
       "    <tr>\n",
       "      <th>1</th>\n",
       "      <td>Cave Creek</td>\n",
       "      <td>62</td>\n",
       "    </tr>\n",
       "    <tr>\n",
       "      <th>2</th>\n",
       "      <td>Glendale</td>\n",
       "      <td>580</td>\n",
       "    </tr>\n",
       "    <tr>\n",
       "      <th>3</th>\n",
       "      <td>Goodyear</td>\n",
       "      <td>120</td>\n",
       "    </tr>\n",
       "    <tr>\n",
       "      <th>4</th>\n",
       "      <td>Grand Junction</td>\n",
       "      <td>1</td>\n",
       "    </tr>\n",
       "    <tr>\n",
       "      <th>5</th>\n",
       "      <td>Saguaro Lake</td>\n",
       "      <td>1</td>\n",
       "    </tr>\n",
       "    <tr>\n",
       "      <th>6</th>\n",
       "      <td>Sun City</td>\n",
       "      <td>27</td>\n",
       "    </tr>\n",
       "    <tr>\n",
       "      <th>7</th>\n",
       "      <td>Surprise</td>\n",
       "      <td>151</td>\n",
       "    </tr>\n",
       "    <tr>\n",
       "      <th>8</th>\n",
       "      <td>Tempe</td>\n",
       "      <td>1119</td>\n",
       "    </tr>\n",
       "    <tr>\n",
       "      <th>9</th>\n",
       "      <td>Tolleson</td>\n",
       "      <td>22</td>\n",
       "    </tr>\n",
       "  </tbody>\n",
       "</table>\n",
       "</div>"
      ],
      "text/plain": [
       "    business_city  count\n",
       "0       Ahwatukee      3\n",
       "1      Cave Creek     62\n",
       "2        Glendale    580\n",
       "3        Goodyear    120\n",
       "4  Grand Junction      1\n",
       "5    Saguaro Lake      1\n",
       "6        Sun City     27\n",
       "7        Surprise    151\n",
       "8           Tempe   1119\n",
       "9        Tolleson     22"
      ]
     },
     "execution_count": 8,
     "metadata": {},
     "output_type": "execute_result"
    }
   ],
   "source": [
    "res"
   ]
  },
  {
   "cell_type": "code",
   "execution_count": 9,
   "id": "1dd1434f",
   "metadata": {},
   "outputs": [
    {
     "name": "stdout",
     "output_type": "stream",
     "text": [
      "Summary statistics for count column\n"
     ]
    },
    {
     "data": {
      "text/html": [
       "<div>\n",
       "<style scoped>\n",
       "    .dataframe tbody tr th:only-of-type {\n",
       "        vertical-align: middle;\n",
       "    }\n",
       "\n",
       "    .dataframe tbody tr th {\n",
       "        vertical-align: top;\n",
       "    }\n",
       "\n",
       "    .dataframe thead th {\n",
       "        text-align: right;\n",
       "    }\n",
       "</style>\n",
       "<table border=\"1\" class=\"dataframe\">\n",
       "  <thead>\n",
       "    <tr style=\"text-align: right;\">\n",
       "      <th></th>\n",
       "      <th>count</th>\n",
       "    </tr>\n",
       "  </thead>\n",
       "  <tbody>\n",
       "    <tr>\n",
       "      <th>count</th>\n",
       "      <td>10.000000</td>\n",
       "    </tr>\n",
       "    <tr>\n",
       "      <th>mean</th>\n",
       "      <td>208.600000</td>\n",
       "    </tr>\n",
       "    <tr>\n",
       "      <th>std</th>\n",
       "      <td>364.492097</td>\n",
       "    </tr>\n",
       "    <tr>\n",
       "      <th>min</th>\n",
       "      <td>1.000000</td>\n",
       "    </tr>\n",
       "    <tr>\n",
       "      <th>25%</th>\n",
       "      <td>7.750000</td>\n",
       "    </tr>\n",
       "    <tr>\n",
       "      <th>50%</th>\n",
       "      <td>44.500000</td>\n",
       "    </tr>\n",
       "    <tr>\n",
       "      <th>75%</th>\n",
       "      <td>143.250000</td>\n",
       "    </tr>\n",
       "    <tr>\n",
       "      <th>max</th>\n",
       "      <td>1119.000000</td>\n",
       "    </tr>\n",
       "  </tbody>\n",
       "</table>\n",
       "</div>"
      ],
      "text/plain": [
       "             count\n",
       "count    10.000000\n",
       "mean    208.600000\n",
       "std     364.492097\n",
       "min       1.000000\n",
       "25%       7.750000\n",
       "50%      44.500000\n",
       "75%     143.250000\n",
       "max    1119.000000"
      ]
     },
     "execution_count": 9,
     "metadata": {},
     "output_type": "execute_result"
    }
   ],
   "source": [
    "print(\"Summary statistics for count column\")\n",
    "countStats.describe()\n"
   ]
  },
  {
   "cell_type": "markdown",
   "id": "90c84abe",
   "metadata": {},
   "source": [
    "### For each business category and business ID combination in the dataframe, how many unique users have rated the business?\n",
    "\n",
    "Note: the resulting dataframe has three columns: `business_categories`, `business_id`, and `count`. I compute summary statistics for the `count` column."
   ]
  },
  {
   "cell_type": "code",
   "execution_count": 10,
   "id": "442afa03",
   "metadata": {
    "scrolled": false
   },
   "outputs": [
    {
     "data": {
      "text/html": [
       "<div>\n",
       "<style scoped>\n",
       "    .dataframe tbody tr th:only-of-type {\n",
       "        vertical-align: middle;\n",
       "    }\n",
       "\n",
       "    .dataframe tbody tr th {\n",
       "        vertical-align: top;\n",
       "    }\n",
       "\n",
       "    .dataframe thead th {\n",
       "        text-align: right;\n",
       "    }\n",
       "</style>\n",
       "<table border=\"1\" class=\"dataframe\">\n",
       "  <thead>\n",
       "    <tr style=\"text-align: right;\">\n",
       "      <th></th>\n",
       "      <th>business_categories</th>\n",
       "      <th>business_id</th>\n",
       "      <th>count</th>\n",
       "    </tr>\n",
       "  </thead>\n",
       "  <tbody>\n",
       "    <tr>\n",
       "      <th>0</th>\n",
       "      <td>Accessories; Fashion; Shopping; Cosmetics &amp; Be...</td>\n",
       "      <td>F-HBLqU3Kvs89lkQ5CjLBQ</td>\n",
       "      <td>4</td>\n",
       "    </tr>\n",
       "    <tr>\n",
       "      <th>1</th>\n",
       "      <td>Active Life</td>\n",
       "      <td>HwjPC5yhvM2blTpmvlhZ2A</td>\n",
       "      <td>4</td>\n",
       "    </tr>\n",
       "    <tr>\n",
       "      <th>2</th>\n",
       "      <td>Active Life</td>\n",
       "      <td>RFAcGpV3m63LbUG-pi0Evg</td>\n",
       "      <td>11</td>\n",
       "    </tr>\n",
       "    <tr>\n",
       "      <th>3</th>\n",
       "      <td>Active Life</td>\n",
       "      <td>i2jU_fUdN5xnwXwoOtRDoA</td>\n",
       "      <td>11</td>\n",
       "    </tr>\n",
       "    <tr>\n",
       "      <th>4</th>\n",
       "      <td>Active Life</td>\n",
       "      <td>kJEPUMn279P_GzFMCr5l0g</td>\n",
       "      <td>5</td>\n",
       "    </tr>\n",
       "    <tr>\n",
       "      <th>...</th>\n",
       "      <td>...</td>\n",
       "      <td>...</td>\n",
       "      <td>...</td>\n",
       "    </tr>\n",
       "    <tr>\n",
       "      <th>2081</th>\n",
       "      <td>Women's Clothing; Men's Clothing; Fashion; Sho...</td>\n",
       "      <td>wdV0pJ4xNi60bME_pXK2dA</td>\n",
       "      <td>5</td>\n",
       "    </tr>\n",
       "    <tr>\n",
       "      <th>2082</th>\n",
       "      <td>Women's Clothing; Thrift Stores; Shopping; Fas...</td>\n",
       "      <td>kBboKZCqHsXOO8ooLeMJYA</td>\n",
       "      <td>5</td>\n",
       "    </tr>\n",
       "    <tr>\n",
       "      <th>2083</th>\n",
       "      <td>Women's Clothing; Used, Vintage &amp; Consignment;...</td>\n",
       "      <td>toaTvg00twp1w95tDuhU3Q</td>\n",
       "      <td>3</td>\n",
       "    </tr>\n",
       "    <tr>\n",
       "      <th>2084</th>\n",
       "      <td>Women's Clothing; Used, Vintage &amp; Consignment;...</td>\n",
       "      <td>wNm84v3I4ZONS9H8Vs-wkQ</td>\n",
       "      <td>8</td>\n",
       "    </tr>\n",
       "    <tr>\n",
       "      <th>2085</th>\n",
       "      <td>Women's Clothing; Used, Vintage &amp; Consignment;...</td>\n",
       "      <td>3HciJAVduCRoPDdzgh7cAA</td>\n",
       "      <td>69</td>\n",
       "    </tr>\n",
       "  </tbody>\n",
       "</table>\n",
       "<p>2086 rows × 3 columns</p>\n",
       "</div>"
      ],
      "text/plain": [
       "                                    business_categories  \\\n",
       "0     Accessories; Fashion; Shopping; Cosmetics & Be...   \n",
       "1                                           Active Life   \n",
       "2                                           Active Life   \n",
       "3                                           Active Life   \n",
       "4                                           Active Life   \n",
       "...                                                 ...   \n",
       "2081  Women's Clothing; Men's Clothing; Fashion; Sho...   \n",
       "2082  Women's Clothing; Thrift Stores; Shopping; Fas...   \n",
       "2083  Women's Clothing; Used, Vintage & Consignment;...   \n",
       "2084  Women's Clothing; Used, Vintage & Consignment;...   \n",
       "2085  Women's Clothing; Used, Vintage & Consignment;...   \n",
       "\n",
       "                 business_id  count  \n",
       "0     F-HBLqU3Kvs89lkQ5CjLBQ      4  \n",
       "1     HwjPC5yhvM2blTpmvlhZ2A      4  \n",
       "2     RFAcGpV3m63LbUG-pi0Evg     11  \n",
       "3     i2jU_fUdN5xnwXwoOtRDoA     11  \n",
       "4     kJEPUMn279P_GzFMCr5l0g      5  \n",
       "...                      ...    ...  \n",
       "2081  wdV0pJ4xNi60bME_pXK2dA      5  \n",
       "2082  kBboKZCqHsXOO8ooLeMJYA      5  \n",
       "2083  toaTvg00twp1w95tDuhU3Q      3  \n",
       "2084  wNm84v3I4ZONS9H8Vs-wkQ      8  \n",
       "2085  3HciJAVduCRoPDdzgh7cAA     69  \n",
       "\n",
       "[2086 rows x 3 columns]"
      ]
     },
     "execution_count": 10,
     "metadata": {},
     "output_type": "execute_result"
    }
   ],
   "source": [
    "uniqeuUsers = sampleData.groupby(['business_categories', 'business_id'])['user_id'].nunique().reset_index()\n",
    "uniqeuUsers.columns = ['business_categories', 'business_id', 'count']\n",
    "uniqeuUsers"
   ]
  },
  {
   "cell_type": "code",
   "execution_count": 11,
   "id": "0349465f",
   "metadata": {
    "scrolled": true
   },
   "outputs": [
    {
     "data": {
      "text/html": [
       "<div>\n",
       "<style scoped>\n",
       "    .dataframe tbody tr th:only-of-type {\n",
       "        vertical-align: middle;\n",
       "    }\n",
       "\n",
       "    .dataframe tbody tr th {\n",
       "        vertical-align: top;\n",
       "    }\n",
       "\n",
       "    .dataframe thead th {\n",
       "        text-align: right;\n",
       "    }\n",
       "</style>\n",
       "<table border=\"1\" class=\"dataframe\">\n",
       "  <thead>\n",
       "    <tr style=\"text-align: right;\">\n",
       "      <th></th>\n",
       "      <th>count</th>\n",
       "    </tr>\n",
       "  </thead>\n",
       "  <tbody>\n",
       "    <tr>\n",
       "      <th>count</th>\n",
       "      <td>2086.000000</td>\n",
       "    </tr>\n",
       "    <tr>\n",
       "      <th>mean</th>\n",
       "      <td>18.529722</td>\n",
       "    </tr>\n",
       "    <tr>\n",
       "      <th>std</th>\n",
       "      <td>38.016503</td>\n",
       "    </tr>\n",
       "    <tr>\n",
       "      <th>min</th>\n",
       "      <td>2.000000</td>\n",
       "    </tr>\n",
       "    <tr>\n",
       "      <th>25%</th>\n",
       "      <td>4.000000</td>\n",
       "    </tr>\n",
       "    <tr>\n",
       "      <th>50%</th>\n",
       "      <td>6.000000</td>\n",
       "    </tr>\n",
       "    <tr>\n",
       "      <th>75%</th>\n",
       "      <td>16.000000</td>\n",
       "    </tr>\n",
       "    <tr>\n",
       "      <th>max</th>\n",
       "      <td>718.000000</td>\n",
       "    </tr>\n",
       "  </tbody>\n",
       "</table>\n",
       "</div>"
      ],
      "text/plain": [
       "             count\n",
       "count  2086.000000\n",
       "mean     18.529722\n",
       "std      38.016503\n",
       "min       2.000000\n",
       "25%       4.000000\n",
       "50%       6.000000\n",
       "75%      16.000000\n",
       "max     718.000000"
      ]
     },
     "execution_count": 11,
     "metadata": {},
     "output_type": "execute_result"
    }
   ],
   "source": [
    "countStatsUsers = uniqeuUsers[['count']]\n",
    "countStatsUsers.describe()"
   ]
  },
  {
   "cell_type": "markdown",
   "id": "8e5b9d9f",
   "metadata": {},
   "source": [
    "# Plotting and Analysis"
   ]
  },
  {
   "cell_type": "markdown",
   "id": "1fe2a1bb",
   "metadata": {},
   "source": [
    "Explore the distribution of each variable, or the correlation between the `business_city`, `useful`,`business_categories` or `other variables` and the `stars` column in both the cleaned dataset from Q1 and the sampled dataset from Q2. For instance, does some cities tend to provide higher stars than others? Hint: you may use the boxplot function to plot figures for comparison (___Challenge___).\n",
    "    \n",
    "You may need to select the most suitable graphic forms for ease of presentation. Most importantly, for each figure or subfigure, please summarise ___what each plot shows___ (i.e. observations and explanations). Finally, you may need to provide an overall summary of the Yelp data."
   ]
  },
  {
   "cell_type": "markdown",
   "id": "d5e27994",
   "metadata": {},
   "source": [
    "Analysis and observation are open, and require you to think critically and analyze data to develop your own insights and conclusions. It's important for you to analyze the data, identify patterns, draw your own conclusions, and communicate your findings. This fosters critical thinking skills, ownership of learning, and a deeper understanding of the data."
   ]
  },
  {
   "cell_type": "markdown",
   "id": "18acd411",
   "metadata": {},
   "source": [
    "the method .corr() can be only used on numeric data which is \"useful\" for finding the relation between stars and the rest of the variables should be found on the graphs and plots"
   ]
  },
  {
   "cell_type": "code",
   "execution_count": 12,
   "id": "d1d9b17c",
   "metadata": {
    "scrolled": true
   },
   "outputs": [
    {
     "data": {
      "text/html": [
       "<div>\n",
       "<style scoped>\n",
       "    .dataframe tbody tr th:only-of-type {\n",
       "        vertical-align: middle;\n",
       "    }\n",
       "\n",
       "    .dataframe tbody tr th {\n",
       "        vertical-align: top;\n",
       "    }\n",
       "\n",
       "    .dataframe thead th {\n",
       "        text-align: right;\n",
       "    }\n",
       "</style>\n",
       "<table border=\"1\" class=\"dataframe\">\n",
       "  <thead>\n",
       "    <tr style=\"text-align: right;\">\n",
       "      <th></th>\n",
       "      <th>useful</th>\n",
       "      <th>stars</th>\n",
       "    </tr>\n",
       "  </thead>\n",
       "  <tbody>\n",
       "    <tr>\n",
       "      <th>useful</th>\n",
       "      <td>1.000000</td>\n",
       "      <td>-0.063901</td>\n",
       "    </tr>\n",
       "    <tr>\n",
       "      <th>stars</th>\n",
       "      <td>-0.063901</td>\n",
       "      <td>1.000000</td>\n",
       "    </tr>\n",
       "  </tbody>\n",
       "</table>\n",
       "</div>"
      ],
      "text/plain": [
       "          useful     stars\n",
       "useful  1.000000 -0.063901\n",
       "stars  -0.063901  1.000000"
      ]
     },
     "execution_count": 12,
     "metadata": {},
     "output_type": "execute_result"
    }
   ],
   "source": [
    "sampleData[['useful','stars']].corr()"
   ]
  },
  {
   "cell_type": "code",
   "execution_count": 13,
   "id": "74485655",
   "metadata": {
    "scrolled": true
   },
   "outputs": [
    {
     "data": {
      "text/html": [
       "<div>\n",
       "<style scoped>\n",
       "    .dataframe tbody tr th:only-of-type {\n",
       "        vertical-align: middle;\n",
       "    }\n",
       "\n",
       "    .dataframe tbody tr th {\n",
       "        vertical-align: top;\n",
       "    }\n",
       "\n",
       "    .dataframe thead th {\n",
       "        text-align: right;\n",
       "    }\n",
       "</style>\n",
       "<table border=\"1\" class=\"dataframe\">\n",
       "  <thead>\n",
       "    <tr style=\"text-align: right;\">\n",
       "      <th></th>\n",
       "      <th>useful</th>\n",
       "      <th>stars</th>\n",
       "    </tr>\n",
       "  </thead>\n",
       "  <tbody>\n",
       "    <tr>\n",
       "      <th>useful</th>\n",
       "      <td>3.555831</td>\n",
       "      <td>-0.149522</td>\n",
       "    </tr>\n",
       "    <tr>\n",
       "      <th>stars</th>\n",
       "      <td>-0.149522</td>\n",
       "      <td>1.539762</td>\n",
       "    </tr>\n",
       "  </tbody>\n",
       "</table>\n",
       "</div>"
      ],
      "text/plain": [
       "          useful     stars\n",
       "useful  3.555831 -0.149522\n",
       "stars  -0.149522  1.539762"
      ]
     },
     "execution_count": 13,
     "metadata": {},
     "output_type": "execute_result"
    }
   ],
   "source": [
    "sampleData[['useful','stars']].cov()"
   ]
  },
  {
   "cell_type": "code",
   "execution_count": 14,
   "id": "227c05f3",
   "metadata": {
    "scrolled": true
   },
   "outputs": [
    {
     "data": {
      "text/html": [
       "<div>\n",
       "<style scoped>\n",
       "    .dataframe tbody tr th:only-of-type {\n",
       "        vertical-align: middle;\n",
       "    }\n",
       "\n",
       "    .dataframe tbody tr th {\n",
       "        vertical-align: top;\n",
       "    }\n",
       "\n",
       "    .dataframe thead th {\n",
       "        text-align: right;\n",
       "    }\n",
       "</style>\n",
       "<table border=\"1\" class=\"dataframe\">\n",
       "  <thead>\n",
       "    <tr style=\"text-align: right;\">\n",
       "      <th></th>\n",
       "      <th>useful</th>\n",
       "      <th>stars</th>\n",
       "    </tr>\n",
       "  </thead>\n",
       "  <tbody>\n",
       "    <tr>\n",
       "      <th>useful</th>\n",
       "      <td>1.000000</td>\n",
       "      <td>-0.033372</td>\n",
       "    </tr>\n",
       "    <tr>\n",
       "      <th>stars</th>\n",
       "      <td>-0.033372</td>\n",
       "      <td>1.000000</td>\n",
       "    </tr>\n",
       "  </tbody>\n",
       "</table>\n",
       "</div>"
      ],
      "text/plain": [
       "          useful     stars\n",
       "useful  1.000000 -0.033372\n",
       "stars  -0.033372  1.000000"
      ]
     },
     "execution_count": 14,
     "metadata": {},
     "output_type": "execute_result"
    }
   ],
   "source": [
    "cleanData[['useful','stars']].corr()"
   ]
  },
  {
   "cell_type": "code",
   "execution_count": 15,
   "id": "14127cd1",
   "metadata": {
    "scrolled": false
   },
   "outputs": [
    {
     "data": {
      "text/html": [
       "<div>\n",
       "<style scoped>\n",
       "    .dataframe tbody tr th:only-of-type {\n",
       "        vertical-align: middle;\n",
       "    }\n",
       "\n",
       "    .dataframe tbody tr th {\n",
       "        vertical-align: top;\n",
       "    }\n",
       "\n",
       "    .dataframe thead th {\n",
       "        text-align: right;\n",
       "    }\n",
       "</style>\n",
       "<table border=\"1\" class=\"dataframe\">\n",
       "  <thead>\n",
       "    <tr style=\"text-align: right;\">\n",
       "      <th></th>\n",
       "      <th>useful</th>\n",
       "      <th>stars</th>\n",
       "    </tr>\n",
       "  </thead>\n",
       "  <tbody>\n",
       "    <tr>\n",
       "      <th>useful</th>\n",
       "      <td>4.978704</td>\n",
       "      <td>-0.090523</td>\n",
       "    </tr>\n",
       "    <tr>\n",
       "      <th>stars</th>\n",
       "      <td>-0.090523</td>\n",
       "      <td>1.477928</td>\n",
       "    </tr>\n",
       "  </tbody>\n",
       "</table>\n",
       "</div>"
      ],
      "text/plain": [
       "          useful     stars\n",
       "useful  4.978704 -0.090523\n",
       "stars  -0.090523  1.477928"
      ]
     },
     "execution_count": 15,
     "metadata": {},
     "output_type": "execute_result"
    }
   ],
   "source": [
    "cleanData[['useful','stars']].cov()"
   ]
  },
  {
   "cell_type": "markdown",
   "id": "a921639d",
   "metadata": {},
   "source": [
    "according to the correlation tables we got there is no correlation between stars and useful"
   ]
  },
  {
   "cell_type": "code",
   "execution_count": 16,
   "id": "2f89f8c6",
   "metadata": {
    "scrolled": true
   },
   "outputs": [
    {
     "name": "stdout",
     "output_type": "stream",
     "text": [
      "correlation between city and the stars of sample data\n"
     ]
    },
    {
     "data": {
      "image/png": "[encoded data removed]",
      "text/plain": [
       "<Figure size 640x480 with 1 Axes>"
      ]
     },
     "metadata": {},
     "output_type": "display_data"
    },
    {
     "name": "stdout",
     "output_type": "stream",
     "text": [
      "this plot somehow indicates that there is no mentionable direct relation between business cities and stars that have been given to businesses and it can be said that stars are being evenly distributed\n"
     ]
    }
   ],
   "source": [
    "print(\"correlation between city and the stars of sample data\")\n",
    "import seaborn as sns\n",
    "sns.boxplot(data=sampleData, x=\"business_city\", y=\"stars\")\n",
    "plt.xticks(fontsize=5)\n",
    "plt.yticks(fontsize=10)\n",
    "plt.show()\n",
    "print(\"this plot somehow indicates that there is no mentionable direct relation between business cities and stars that have been given to businesses and it can be said that stars are being evenly distributed\")"
   ]
  },
  {
   "cell_type": "code",
   "execution_count": 39,
   "id": "2a15df46",
   "metadata": {
    "scrolled": false
   },
   "outputs": [
    {
     "name": "stdout",
     "output_type": "stream",
     "text": [
      "correlation between city and the stars of clean data\n"
     ]
    },
    {
     "data": {
      "image/png": "[encoded data removed]",
      "text/plain": [
       "<Figure size 640x480 with 1 Axes>"
      ]
     },
     "metadata": {},
     "output_type": "display_data"
    },
    {
     "name": "stdout",
     "output_type": "stream",
     "text": [
      "this plot almost indicates that there is no mentionable direct relation between business cities and stars that have been given to businesses and it can be said that stars are being evenly distributed\n"
     ]
    }
   ],
   "source": [
    "print(\"correlation between city and the stars of clean data\")\n",
    "cities = cleanData['business_city'].unique()\n",
    "selectedCities = pd.Series(cities).sample(n=9).values\n",
    "filteredCities = cleanData[cleanData['business_city'].isin(selectedCities)]\n",
    "sns.boxplot(data=filteredCities, x=\"business_city\", y=\"stars\")\n",
    "plt.xticks(fontsize=5)\n",
    "plt.yticks(fontsize=10)\n",
    "plt.show()\n",
    "print(\"this plot almost indicates that there is no mentionable direct relation between business cities and stars that have been given to businesses and it can be said that stars are being evenly distributed\")"
   ]
  },
  {
   "cell_type": "code",
   "execution_count": 40,
   "id": "d5321bf7",
   "metadata": {},
   "outputs": [
    {
     "data": {
      "text/plain": [
       "(array([0.5, 1. , 1.5, 2. , 2.5, 3. , 3.5, 4. , 4.5, 5. , 5.5]),\n",
       " [Text(0, 0.5, '0.5'),\n",
       "  Text(0, 1.0, '1.0'),\n",
       "  Text(0, 1.5, '1.5'),\n",
       "  Text(0, 2.0, '2.0'),\n",
       "  Text(0, 2.5, '2.5'),\n",
       "  Text(0, 3.0, '3.0'),\n",
       "  Text(0, 3.5, '3.5'),\n",
       "  Text(0, 4.0, '4.0'),\n",
       "  Text(0, 4.5, '4.5'),\n",
       "  Text(0, 5.0, '5.0'),\n",
       "  Text(0, 5.5, '5.5')])"
      ]
     },
     "execution_count": 40,
     "metadata": {},
     "output_type": "execute_result"
    },
    {
     "data": {
      "image/png": "[encoded data removed]",
      "text/plain": [
       "<Figure size 640x480 with 1 Axes>"
      ]
     },
     "metadata": {},
     "output_type": "display_data"
    }
   ],
   "source": [
    "plt.scatter(data=sampleData,x='business_city',y='stars')\n",
    "plt.xticks(fontsize=5)\n",
    "plt.yticks(fontsize=10)"
   ]
  },
  {
   "cell_type": "code",
   "execution_count": 41,
   "id": "17a0bc85",
   "metadata": {},
   "outputs": [
    {
     "data": {
      "text/plain": [
       "(array([0.5, 1. , 1.5, 2. , 2.5, 3. , 3.5, 4. , 4.5, 5. , 5.5]),\n",
       " [Text(0, 0.5, '0.5'),\n",
       "  Text(0, 1.0, '1.0'),\n",
       "  Text(0, 1.5, '1.5'),\n",
       "  Text(0, 2.0, '2.0'),\n",
       "  Text(0, 2.5, '2.5'),\n",
       "  Text(0, 3.0, '3.0'),\n",
       "  Text(0, 3.5, '3.5'),\n",
       "  Text(0, 4.0, '4.0'),\n",
       "  Text(0, 4.5, '4.5'),\n",
       "  Text(0, 5.0, '5.0'),\n",
       "  Text(0, 5.5, '5.5')])"
      ]
     },
     "execution_count": 41,
     "metadata": {},
     "output_type": "execute_result"
    },
    {
     "data": {
      "image/png": "[encoded data removed]",
      "text/plain": [
       "<Figure size 640x480 with 1 Axes>"
      ]
     },
     "metadata": {},
     "output_type": "display_data"
    }
   ],
   "source": [
    "plt.scatter(data=filteredCities,x='business_city',y='stars')\n",
    "plt.xticks(fontsize=5)\n",
    "plt.yticks(fontsize=10)"
   ]
  },
  {
   "cell_type": "markdown",
   "id": "fac3e608",
   "metadata": {},
   "source": [
    "it can be said that the city of the businesses are not taking a part in different ratings and its completely random (it's upto the customer at the end to rate the business based on their experience not the city of the business, but it can be still some small relations between the city and ratings if we dive deeper in the data for example some cities may have people with high standards and it might affect the rating)."
   ]
  },
  {
   "cell_type": "code",
   "execution_count": 42,
   "id": "54a0d966",
   "metadata": {
    "scrolled": true
   },
   "outputs": [
    {
     "name": "stdout",
     "output_type": "stream",
     "text": [
      "correlation between categories and the stars of sample data\n"
     ]
    },
    {
     "data": {
      "image/png": "[encoded data removed]",
      "text/plain": [
       "<Figure size 1500x1500 with 1 Axes>"
      ]
     },
     "metadata": {},
     "output_type": "display_data"
    },
    {
     "name": "stdout",
     "output_type": "stream",
     "text": [
      "this can be said that this plot indicates that there is a relation between the business categories and stars that have been given to them\n"
     ]
    }
   ],
   "source": [
    "print(\"correlation between categories and the stars of sample data\")\n",
    "categories = sampleData['business_categories'].unique()\n",
    "selectedCategories = pd.Series(categories).sample(n=5).values\n",
    "filteredCategories = sampleData[sampleData['business_categories'].isin(selectedCategories)]\n",
    "plt.figure(figsize=(15,15))\n",
    "sns.boxplot(data=filteredCategories, x=\"business_categories\", y=\"stars\")\n",
    "plt.xticks(fontsize=5)\n",
    "plt.yticks(fontsize=10)\n",
    "plt.show()\n",
    "print('this can be said that this plot indicates that there is a relation between the business categories and stars that have been given to them')"
   ]
  },
  {
   "cell_type": "code",
   "execution_count": 19,
   "id": "ec422239",
   "metadata": {},
   "outputs": [
    {
     "name": "stdout",
     "output_type": "stream",
     "text": [
      "correlation between categories and the stars of clean data\n"
     ]
    },
    {
     "data": {
      "image/png": "[encoded data removed]",
      "text/plain": [
       "<Figure size 1500x1500 with 1 Axes>"
      ]
     },
     "metadata": {},
     "output_type": "display_data"
    },
    {
     "name": "stdout",
     "output_type": "stream",
     "text": [
      "this can be said that this plot indicates that there is a relation between the business categories and stars that have been given to them\n"
     ]
    }
   ],
   "source": [
    "print(\"correlation between categories and the stars of clean data\")\n",
    "categories = cleanData['business_categories'].unique()\n",
    "selectedCategories = pd.Series(categories).sample(n=5).values\n",
    "filteredCategories = cleanData[cleanData['business_categories'].isin(selectedCategories)]\n",
    "plt.figure(figsize=(15,15))\n",
    "sns.boxplot(data=filteredCategories, x=\"business_categories\", y=\"stars\")\n",
    "plt.xticks(fontsize=6)\n",
    "plt.yticks(fontsize=10)\n",
    "plt.show()\n",
    "print('this can be said that this plot indicates that there is a relation between the business categories and stars that have been given to them')"
   ]
  },
  {
   "cell_type": "markdown",
   "id": "d5abe8f2",
   "metadata": {},
   "source": [
    "in these plots where i was looking for a meaningful relationship and correlation between business categories and stars where it can be seen that there is the most flunctuation and difference in stars based on their categories. based on the categories i could see that the ones that are food or beverage related have more stretched boxplots which means there are more variety of ratings (people have different point of views and opinions) but more likely to get high stars. for categories that are service related there is still a stretched boxplot but the stars are going lower than food related businesses and are more in between 3 & 4 stars. for businesses that sell goods or products and are in shopping categories the box is shorter and it shows that there is less different in reviews and point of views."
   ]
  },
  {
   "cell_type": "code",
   "execution_count": 20,
   "id": "8c941a54",
   "metadata": {
    "scrolled": true
   },
   "outputs": [
    {
     "name": "stdout",
     "output_type": "stream",
     "text": [
      "correlation between useful and the stars of sample data\n"
     ]
    },
    {
     "data": {
      "image/png": "[encoded data removed]",
      "text/plain": [
       "<Figure size 2500x2500 with 1 Axes>"
      ]
     },
     "metadata": {},
     "output_type": "display_data"
    },
    {
     "name": "stdout",
     "output_type": "stream",
     "text": [
      "in this plot the idea of the correlation between the stars and useful ratings has been tested and as it can be seen there is no relation between useful ratings and the stars and its being randomly and almost evenly distributed\n"
     ]
    }
   ],
   "source": [
    "print(\"correlation between useful and the stars of sample data\")\n",
    "usefuls = sampleData['useful'].unique()\n",
    "selectedUses = pd.Series(usefuls).sample(n=5)\n",
    "filteredUses = sampleData[sampleData['useful'].isin(selectedUses)]\n",
    "plt.figure(figsize=(25,25))\n",
    "sns.boxplot(data=filteredUses, x=\"useful\", y=\"stars\")\n",
    "plt.xticks(fontsize=9)\n",
    "plt.yticks(fontsize=10)\n",
    "plt.show()\n",
    "print('in this plot the idea of the correlation between the stars and useful ratings has been tested and as it can be seen there is no relation between useful ratings and the stars and its being randomly and almost evenly distributed')"
   ]
  },
  {
   "cell_type": "code",
   "execution_count": 21,
   "id": "db57b877",
   "metadata": {
    "scrolled": true
   },
   "outputs": [
    {
     "name": "stdout",
     "output_type": "stream",
     "text": [
      "correlation between useful and the stars of clean data\n"
     ]
    },
    {
     "data": {
      "image/png": "[encoded data removed]",
      "text/plain": [
       "<Figure size 2500x2500 with 1 Axes>"
      ]
     },
     "metadata": {},
     "output_type": "display_data"
    },
    {
     "name": "stdout",
     "output_type": "stream",
     "text": [
      "in this plot the idea of the correlation between the stars and useful ratings has been tested and as it can be seen there is no relation between useful ratings and the stars and its being randomly and almost evenly distributed\n"
     ]
    }
   ],
   "source": [
    "print(\"correlation between useful and the stars of clean data\")\n",
    "usefuls = cleanData['useful'].unique()\n",
    "selectedUses = pd.Series(usefuls).sample(n=5)\n",
    "filteredUses = cleanData[cleanData['useful'].isin(selectedUses)]\n",
    "plt.figure(figsize=(25,25))\n",
    "sns.boxplot(data=filteredUses, x=\"useful\", y=\"stars\")\n",
    "plt.xticks(fontsize=9)\n",
    "plt.yticks(fontsize=10)\n",
    "plt.show()\n",
    "print('in this plot the idea of the correlation between the stars and useful ratings has been tested and as it can be seen there is no relation between useful ratings and the stars and its being randomly and almost evenly distributed')"
   ]
  },
  {
   "cell_type": "code",
   "execution_count": 22,
   "id": "26c3b041",
   "metadata": {},
   "outputs": [
    {
     "data": {
      "text/plain": [
       "<seaborn.axisgrid.PairGrid at 0x2290ed897d0>"
      ]
     },
     "execution_count": 22,
     "metadata": {},
     "output_type": "execute_result"
    },
    {
     "data": {
      "image/png": "[encoded data removed]",
      "text/plain": [
       "<Figure size 303.111x250 with 2 Axes>"
      ]
     },
     "metadata": {},
     "output_type": "display_data"
    }
   ],
   "source": [
    "sns.pairplot(data=cleanData, hue='useful')"
   ]
  },
  {
   "cell_type": "code",
   "execution_count": 23,
   "id": "a3e6bcc3",
   "metadata": {
    "scrolled": false
   },
   "outputs": [
    {
     "name": "stdout",
     "output_type": "stream",
     "text": [
      "this figure can be demonstrating that there is no correlation between useful and the stars\n"
     ]
    },
    {
     "data": {
      "image/png": "[encoded data removed]",
      "text/plain": [
       "<Figure size 1500x1500 with 1 Axes>"
      ]
     },
     "metadata": {},
     "output_type": "display_data"
    }
   ],
   "source": [
    "cleanData.plot(kind = 'scatter',y = 'useful',x='stars',fontsize=6,figsize=(15,15))\n",
    "print(\"this figure can be demonstrating that there is no correlation between useful and the stars\")"
   ]
  },
  {
   "cell_type": "code",
   "execution_count": 24,
   "id": "2b2121fa",
   "metadata": {
    "scrolled": true
   },
   "outputs": [
    {
     "name": "stdout",
     "output_type": "stream",
     "text": [
      "this figure can be demonstrating that there is no correlation between useful and the stars\n"
     ]
    },
    {
     "data": {
      "image/png": "[encoded data removed]",
      "text/plain": [
       "<Figure size 1500x1500 with 1 Axes>"
      ]
     },
     "metadata": {},
     "output_type": "display_data"
    }
   ],
   "source": [
    "sampleData.plot(kind = 'scatter',y = 'useful',x='stars',fontsize=6,figsize=(15,15))\n",
    "print(\"this figure can be demonstrating that there is no correlation between useful and the stars\")"
   ]
  },
  {
   "cell_type": "markdown",
   "id": "c1c1dcb4",
   "metadata": {},
   "source": [
    "for the useful label and column it can be said that the reviews has been voted as useful evenly and the plots are showing some nicely distributed usefulness of reviews between all the stars from 1 to 5, although few outliers with high useful votes in the 5 stars reviews can be seen but because they are few, we can just ignore them, overall the relation between useful and stars there is not really meaningful and it can't be said that people vote a review useful based on the stars, However there is a correlation shown between them in the pairplot which in this case i feel like can't be reliable."
   ]
  },
  {
   "cell_type": "code",
   "execution_count": 25,
   "id": "1a96c3e4",
   "metadata": {
    "scrolled": false
   },
   "outputs": [
    {
     "name": "stdout",
     "output_type": "stream",
     "text": [
      "in this figure we can find meaningful relation between stars and the business categories\n"
     ]
    },
    {
     "data": {
      "image/png": "[encoded data removed]",
      "text/plain": [
       "<Figure size 1500x1500 with 1 Axes>"
      ]
     },
     "metadata": {},
     "output_type": "display_data"
    }
   ],
   "source": [
    "filteredCategories.plot(kind = 'scatter',x = 'business_categories',y='stars',fontsize=6,figsize=(15,15))\n",
    "print(\"in this figure we can find meaningful relation between stars and the business categories\")"
   ]
  },
  {
   "cell_type": "code",
   "execution_count": 26,
   "id": "45c05a91",
   "metadata": {},
   "outputs": [
    {
     "data": {
      "text/html": [
       "<div>\n",
       "<style scoped>\n",
       "    .dataframe tbody tr th:only-of-type {\n",
       "        vertical-align: middle;\n",
       "    }\n",
       "\n",
       "    .dataframe tbody tr th {\n",
       "        vertical-align: top;\n",
       "    }\n",
       "\n",
       "    .dataframe thead th {\n",
       "        text-align: right;\n",
       "    }\n",
       "</style>\n",
       "<table border=\"1\" class=\"dataframe\">\n",
       "  <thead>\n",
       "    <tr style=\"text-align: right;\">\n",
       "      <th></th>\n",
       "      <th>business_city</th>\n",
       "      <th>stars</th>\n",
       "    </tr>\n",
       "  </thead>\n",
       "  <tbody>\n",
       "    <tr>\n",
       "      <th>0</th>\n",
       "      <td>Ahwatukee</td>\n",
       "      <td>5</td>\n",
       "    </tr>\n",
       "    <tr>\n",
       "      <th>1</th>\n",
       "      <td>Anthem</td>\n",
       "      <td>5</td>\n",
       "    </tr>\n",
       "    <tr>\n",
       "      <th>2</th>\n",
       "      <td>Apache Junction</td>\n",
       "      <td>5</td>\n",
       "    </tr>\n",
       "    <tr>\n",
       "      <th>3</th>\n",
       "      <td>Avondale</td>\n",
       "      <td>5</td>\n",
       "    </tr>\n",
       "    <tr>\n",
       "      <th>4</th>\n",
       "      <td>Buckeye</td>\n",
       "      <td>5</td>\n",
       "    </tr>\n",
       "    <tr>\n",
       "      <th>...</th>\n",
       "      <td>...</td>\n",
       "      <td>...</td>\n",
       "    </tr>\n",
       "    <tr>\n",
       "      <th>56</th>\n",
       "      <td>Waddell</td>\n",
       "      <td>3</td>\n",
       "    </tr>\n",
       "    <tr>\n",
       "      <th>57</th>\n",
       "      <td>Wickenburg</td>\n",
       "      <td>5</td>\n",
       "    </tr>\n",
       "    <tr>\n",
       "      <th>58</th>\n",
       "      <td>Wittmann</td>\n",
       "      <td>2</td>\n",
       "    </tr>\n",
       "    <tr>\n",
       "      <th>59</th>\n",
       "      <td>Youngtown</td>\n",
       "      <td>5</td>\n",
       "    </tr>\n",
       "    <tr>\n",
       "      <th>60</th>\n",
       "      <td>Yuma</td>\n",
       "      <td>3</td>\n",
       "    </tr>\n",
       "  </tbody>\n",
       "</table>\n",
       "<p>61 rows × 2 columns</p>\n",
       "</div>"
      ],
      "text/plain": [
       "      business_city  stars\n",
       "0         Ahwatukee      5\n",
       "1            Anthem      5\n",
       "2   Apache Junction      5\n",
       "3          Avondale      5\n",
       "4           Buckeye      5\n",
       "..              ...    ...\n",
       "56          Waddell      3\n",
       "57       Wickenburg      5\n",
       "58         Wittmann      2\n",
       "59        Youngtown      5\n",
       "60             Yuma      3\n",
       "\n",
       "[61 rows x 2 columns]"
      ]
     },
     "execution_count": 26,
     "metadata": {},
     "output_type": "execute_result"
    }
   ],
   "source": [
    "starBusinesses = cleanData.groupby('business_city')['stars'].nunique().reset_index()\n",
    "starBusinesses"
   ]
  },
  {
   "cell_type": "markdown",
   "id": "bd81eba2",
   "metadata": {},
   "source": [
    "as shown in this data frame the number of stars given to each city is almost the same and evenly distributed"
   ]
  },
  {
   "cell_type": "markdown",
   "id": "b88c0f8a",
   "metadata": {},
   "source": [
    "# summary\n",
    "to conclude and analyse the given dataset using visualtion and plots i could get an idea of how different factors can affect people rating the business (stars) and leaving a review, since the dataset is quite large and it will be almost impossible to analyse the whole data so i took a smaller part of it (sample data) as you asked in Q2 and analysed the plots and figures generated based on the sample data i also used the cleaned data set to creat some plots and figures but for both of them it was still required to micro segment the data in order to have a clean and readable visualisation of the data. in the segmented parts of data there are different labels and column names that can be visualised and in my analyses from those graphs, not many of them are actually being related to the fluctuation in stars given to businesses. In conclusion it should be mentioned that it is true that many factors can affect the stars and reviews but there is no significant cause and effect relation between these labels and can be totally random just based on the people taste or opinion."
   ]
  }
 ],
 "metadata": {
  "kernelspec": {
   "display_name": "Python 3 (ipykernel)",
   "language": "python",
   "name": "python3"
  },
  "language_info": {
   "codemirror_mode": {
    "name": "ipython",
    "version": 3
   },
   "file_extension": ".py",
   "mimetype": "text/x-python",
   "name": "python",
   "nbconvert_exporter": "python",
   "pygments_lexer": "ipython3",
   "version": "3.11.7"
  }
 },
 "nbformat": 4,
 "nbformat_minor": 5
}
